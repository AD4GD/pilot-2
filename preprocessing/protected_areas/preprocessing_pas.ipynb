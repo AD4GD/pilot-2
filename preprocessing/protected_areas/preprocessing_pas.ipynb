{
 "cells": [
  {
   "cell_type": "markdown",
   "metadata": {},
   "source": [
    "## Enriching LULC with data on protected areas\n",
    "\n",
    "This block of preprocessing code is dedicated to refining initial land-use/land-cover (LULC) data with additional data on protected areas (PA) from the World Database on Protected Areas (WDPA): https://www.protectedplanet.net/en/thematic-areas/wdpa\n",
    "As soon as protected areas may significantly reduce the reflectance of landscapes for species migration, landscapes intersected with PAs should be considered as different from those with no protected status. This workflow is describing the process of updating LULC data needed to compute functional landscape connectivity. Impedance and affinity values derived from LULC data and required by Miramon and Graphab are also recomputed."
   ]
  },
  {
   "cell_type": "markdown",
   "metadata": {},
   "source": [
    "##### 1. Processing of protected areas\n",
    "\n",
    "Data downloaded from WDPA as geopackage are [processed](./pas_timeseries.py) in 4 steps:\n",
    "1. Extract extent and spatial resolution of LULC data.\n",
    "Redefine no data values as 0 for input LULC data.\n",
    "2. Extract protected areas filtered by LULC timestamp and year of PAs establishment.\n",
    "3. Rasterize protected areas (there is no way to read geodataframes by gdal_rasterize except from writing files on the disc) based on step 1.\n",
    "4. Compress protected areas.\n"
   ]
  },
  {
   "cell_type": "markdown",
   "metadata": {},
   "source": [
    "##### 2. Raster algebra\n",
    "\n",
    "LULC enrichment is [completed](./raster_sum_loop.sh) through the raster calculator:\n",
    "1. Rearranging no data values as they must be considered as 0 to run raster calcualtions.\n",
    "2. To sum initial LULC raster and protected areas.\n",
    "3. Writing the new updated LULC map with the doubled amount of LULC codes for each timestamp (loop based on year matching in filenames).\n",
    "4. Compression and assignment of null values."
   ]
  },
  {
   "cell_type": "markdown",
   "metadata": {},
   "source": [
    "##### 3. Updating landscape impedance\n",
    "Impedance is [reclassified](/reclassify_raster_loop.py) by [CSV table](/reclassification.csv) and compressed (through LZW compression, not Cloud Optimised Geotiff format to avoid any further issues in Graphab)."
   ]
  },
  {
   "cell_type": "markdown",
   "metadata": {},
   "source": [
    "##### 4. Updating landscape affinity \n",
    "Landscape affinity is [computed and compressed](./affinity.py) based on the math expression processing landscape impedance."
   ]
  }
 ],
 "metadata": {
  "language_info": {
   "name": "python"
  }
 },
 "nbformat": 4,
 "nbformat_minor": 2
}
