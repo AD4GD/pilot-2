{
 "cells": [
  {
   "cell_type": "markdown",
   "metadata": {},
   "source": [
    "# Preprocessing land-use/land-cover (LULC) data to enrich and refine them by vector data\n",
    "\n",
    "## Environment and dependencies\n",
    "\n",
    "This preprocessing workflow requires to install specific packages to run most of processing commands. Anaconda environment has been used to ensure the consistency and seamless installation of libraries. Geopandas and pandas are recommended to be installed in this way (to provide compatible versions) through Anaconda Prompt: \n",
    "conda install -c conda-forge geopandas pandas\n",
    "\n",
    "Other libraries may be installed through simple commands in your Anaconda Prompt:\n",
    "\n",
    "$ conda install fiona\n",
    "$ conda install gdal\n",
    "\n",
    "This package is currently not included into the preprocessing workflow, but might be useful in future:\n",
    "\n",
    "$ conda install qgis --channel conda-forge"
   ]
  },
  {
   "cell_type": "markdown",
   "metadata": {},
   "source": [
    "We would like to install all dependencies required (not required at this stage):"
   ]
  },
  {
   "cell_type": "code",
   "execution_count": null,
   "metadata": {},
   "outputs": [],
   "source": [
    "import sys\n",
    "\n",
    "import os\n",
    "os.environ['USE_PATH_FOR_GDAL_PYTHON'] = 'YES' #to import gdal\n",
    "\n",
    "import numpy as np\n",
    "import numpy.ma as ma\n",
    "import warnings\n",
    "import fiona\n",
    "import geopandas as gpd\n",
    "\n",
    "# import processing if needed\n",
    "# from qgis.core import QgsVectorLayer\n",
    "# from qgis.core import QgsProject\n",
    "# from qgis.core import QgsProcessingUtils\n",
    "# from qgis.core import QgsGeometryChecker"
   ]
  },
  {
   "cell_type": "markdown",
   "metadata": {},
   "source": [
    "As GDAL installation might face issues it is important to include a separate troubleshooting statement for its installation:"
   ]
  },
  {
   "cell_type": "code",
   "execution_count": null,
   "metadata": {},
   "outputs": [],
   "source": [
    "#INSTALLING GDAL\n",
    "try:\n",
    "    from osgeo import ogr, osr, gdal\n",
    "except ImportError:\n",
    "    import sys\n",
    "    sys.exit('ERROR: cannot find GDAL/OGR modules')"
   ]
  },
  {
   "cell_type": "markdown",
   "metadata": {},
   "source": [
    "It is recommended to use GDAL error handler function and exception module:"
   ]
  },
  {
   "cell_type": "code",
   "execution_count": null,
   "metadata": {},
   "outputs": [],
   "source": [
    "# specify GDAL error handler function\n",
    "def gdal_error_handler(err_class, err_num, err_msg):\n",
    "    errtype = {\n",
    "        gdal.CE_None: 'None',\n",
    "        gdal.CE_Debug: 'Debug',\n",
    "        gdal.CE_Warning: 'Warning',\n",
    "        gdal.CE_Failure: 'Failure',\n",
    "        gdal.CE_Fatal: 'Fatal'\n",
    "    }\n",
    "    err_msg = err_msg.replace('\\n', ' ')\n",
    "    err_class = errtype.get(err_class, 'None')\n",
    "    print('Error Number: %s' % (err_num))\n",
    "    print('Error Type: %s' % (err_class))\n",
    "    print('Error Message: %s' % (err_msg))\n",
    "\n",
    "# enable GDAL/OGR exceptions\n",
    "gdal.UseExceptions()"
   ]
  },
  {
   "cell_type": "markdown",
   "metadata": {},
   "source": [
    "## Input data and paths\n",
    "\n",
    "Firstly, it is vital to define names of input data and paths to them. Currently, the automatical extraction of current folder works (os.getcwd) to avoid hard-coded path.\n"
   ]
  },
  {
   "cell_type": "code",
   "execution_count": null,
   "metadata": {},
   "outputs": [],
   "source": [
    "# specify parent and child directory of code/data\n",
    "parent_dir = os.getcwd()\n",
    "print (parent_dir)\n",
    "child_dir = 'data/input'\n",
    "\n",
    "# SPECIFY INPUT RASTER AND VECTOR DATA\n",
    "# specifying the file names\n",
    "lulc = 'lulc_2022.gtif'\n",
    "vector_refine = 'vector_refine.gpkg'\n",
    "# specifying the path to these files through the path variables\n",
    "lulc = os.path.join(parent_dir,child_dir,lulc)\n",
    "vector_refine = os.path.join(parent_dir,child_dir,vector_refine)"
   ]
  },
  {
   "cell_type": "markdown",
   "metadata": {},
   "source": [
    "## Validity check\n",
    "\n",
    "It is required to check the validity of vector geometry used to refine raster LULC data"
   ]
  },
  {
   "cell_type": "code",
   "execution_count": null,
   "metadata": {},
   "outputs": [],
   "source": [
    "# open geopackage file\n",
    "data_source = ogr.Open(vector_refine)\n",
    "\n",
    "# get the number of layers in geopackage\n",
    "num_layers = data_source.GetLayerCount()\n",
    "\n",
    "# iterate through each layer\n",
    "for i in range(num_layers):\n",
    "    layer = data_source.GetLayerByIndex(i)\n",
    "\n",
    "    # iterate through each feature in the layer\n",
    "    feature = layer.GetNextFeature()\n",
    "    while feature:\n",
    "        geometry = feature.GetGeometryRef()\n",
    "\n",
    "        # check the validity of each geometry\n",
    "        if not geometry.IsValid():\n",
    "            print(f\"Invalid Geometry in feature {feature.GetFID()}: {geometry.ExportToWkt()}. Further computations may be affected by geometry invalidity\")\n",
    "\n",
    "        feature = layer.GetNextFeature()\n",
    "\n",
    "# close the geopackage file\n",
    "data_source = None"
   ]
  }
 ],
 "metadata": {
  "kernelspec": {
   "display_name": "Python 3 (ipykernel)",
   "language": "python",
   "name": "python3"
  },
  "language_info": {
   "codemirror_mode": {
    "name": "ipython",
    "version": 3
   },
   "file_extension": ".py",
   "mimetype": "text/x-python",
   "name": "python",
   "nbconvert_exporter": "python",
   "pygments_lexer": "ipython3",
   "version": "3.11.5"
  }
 },
 "nbformat": 4,
 "nbformat_minor": 2
}
